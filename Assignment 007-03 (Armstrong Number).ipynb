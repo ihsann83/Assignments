{
 "cells": [
  {
   "cell_type": "code",
   "execution_count": null,
   "metadata": {},
   "outputs": [],
   "source": [
    "while True:\n",
    "    number = input(\"Please enter a number:\")\n",
    "    sum = 0\n",
    "    digit = len(number)\n",
    "    if not number.isdigit():\n",
    "        print(number, \" is an invalid number\")\n",
    "    elif int(number) >= 0:\n",
    "        for i in range(digit):\n",
    "            sum == int(number[i])**digit\n",
    "        if sum == int(number):\n",
    "            print(number, \" is an Armstrong number\")\n",
    "            break\n",
    "        else:\n",
    "            print(number, \" is not an Armstrong number\")\n",
    "            break"
   ]
  },
  {
   "cell_type": "code",
   "execution_count": null,
   "metadata": {},
   "outputs": [],
   "source": []
  }
 ],
 "metadata": {
  "kernelspec": {
   "display_name": "Python 3",
   "language": "python",
   "name": "python3"
  },
  "language_info": {
   "codemirror_mode": {
    "name": "ipython",
    "version": 3
   },
   "file_extension": ".py",
   "mimetype": "text/x-python",
   "name": "python",
   "nbconvert_exporter": "python",
   "pygments_lexer": "ipython3",
   "version": "3.8.5"
  }
 },
 "nbformat": 4,
 "nbformat_minor": 4
}
