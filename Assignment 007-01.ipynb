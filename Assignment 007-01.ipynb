{
 "cells": [
  {
   "cell_type": "code",
   "execution_count": 12,
   "metadata": {},
   "outputs": [
    {
     "name": "stdout",
     "output_type": "stream",
     "text": [
      "What is your name: osman\n",
      "Hello, Osman! The password is : 123Dort!\n"
     ]
    }
   ],
   "source": [
    "#Write a program that \n",
    "#Takes the first name from the user and compares it to yours,\n",
    "#Then if the name the user entered is the same as yours, print out such as : \"Hello, Joseph! The password is : W@12\",\n",
    "#If the name the user entered is not the same as yours, print out such as : \"Hello, Amina! See you later.\"\n",
    "password = \"123Dort!\"\n",
    "my_name = \"Osman\"\n",
    "user_name = input(\"What is your name: \").title()\n",
    "if user_name == my_name:\n",
    "    print(\"Hello, {}! The password is : {}\".format(user_name, password))\n",
    "else:\n",
    "    print(\"Hello, {}! See you later\".format(user_name))"
   ]
  },
  {
   "cell_type": "code",
   "execution_count": null,
   "metadata": {},
   "outputs": [],
   "source": [
    "\n"
   ]
  }
 ],
 "metadata": {},
 "nbformat": 4,
 "nbformat_minor": 4
}