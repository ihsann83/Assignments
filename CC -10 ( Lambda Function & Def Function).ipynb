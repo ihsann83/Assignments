{
 "cells": [
  {
   "cell_type": "code",
   "execution_count": null,
   "metadata": {},
   "outputs": [],
   "source": [
    "#You are given a list of lists (a nested list). Write #a Python program to print the list with maximum length in this nested list. \n",
    "#The output should be in the form (list, list_length)\n",
    "#Input : [['C', 'L'], ['A', 'R', 'U'], ['S', 'W', 'A', 'Y']]\n",
    "#Output : (['S', 'W', 'A', 'Y'], 4)\n",
    "\n",
    "#Input : [[2, 3, 5, 1], [0, 2], [1]]\n",
    "#Output : ([2, 3, 5, 1], 4)\n",
    "\n",
    "\n"
   ]
  },
  {
   "cell_type": "code",
   "execution_count": 13,
   "metadata": {},
   "outputs": [
    {
     "data": {
      "text/plain": [
       "['S', 'W', 'A', 'Y']"
      ]
     },
     "execution_count": 13,
     "metadata": {},
     "output_type": "execute_result"
    }
   ],
   "source": [
    "list_1 = [['C', 'L'], ['A', 'R', 'U'], ['S', 'W', 'A', 'Y']]\n",
    "max(list_1)"
   ]
  },
  {
   "cell_type": "code",
   "execution_count": 16,
   "metadata": {},
   "outputs": [
    {
     "data": {
      "text/plain": [
       "4"
      ]
     },
     "execution_count": 16,
     "metadata": {},
     "output_type": "execute_result"
    }
   ],
   "source": [
    "max(map(len, list_1))"
   ]
  },
  {
   "cell_type": "code",
   "execution_count": 23,
   "metadata": {},
   "outputs": [
    {
     "name": "stdout",
     "output_type": "stream",
     "text": [
      "(['S', 'W', 'A', 'Y'], 4)\n"
     ]
    }
   ],
   "source": [
    "max_length = lambda x: (max(list_1), max(map(len, list_1)))\n",
    "print(max_length(list_1))"
   ]
  },
  {
   "cell_type": "code",
   "execution_count": null,
   "metadata": {},
   "outputs": [],
   "source": [
    "# Write a function called divisible that takes as input parameters two numbers and returns “divisible” if the first is a factor of the second, “not divisible” if it isn’t, and “error” if the second parameter is a zero. \n",
    "\n",
    "#Hint:  Which of these conditions should you check first?"
   ]
  },
  {
   "cell_type": "code",
   "execution_count": 30,
   "metadata": {},
   "outputs": [
    {
     "name": "stdout",
     "output_type": "stream",
     "text": [
      "not divisible\n"
     ]
    }
   ],
   "source": [
    "def divisible(x,y):\n",
    "    if y==0:\n",
    "        print(\"error\")\n",
    "    elif x%y == 0:\n",
    "        print(\"divisible\")\n",
    "    else:\n",
    "        print(\"not divisible\")\n",
    "divisible(3,2)      \n",
    "            "
   ]
  },
  {
   "cell_type": "code",
   "execution_count": null,
   "metadata": {},
   "outputs": [],
   "source": []
  },
  {
   "cell_type": "code",
   "execution_count": null,
   "metadata": {},
   "outputs": [],
   "source": []
  },
  {
   "cell_type": "code",
   "execution_count": null,
   "metadata": {},
   "outputs": [],
   "source": []
  }
 ],
 "metadata": {
  "kernelspec": {
   "display_name": "Python 3",
   "language": "python",
   "name": "python3"
  },
  "language_info": {
   "codemirror_mode": {
    "name": "ipython",
    "version": 3
   },
   "file_extension": ".py",
   "mimetype": "text/x-python",
   "name": "python",
   "nbconvert_exporter": "python",
   "pygments_lexer": "ipython3",
   "version": "3.8.5"
  }
 },
 "nbformat": 4,
 "nbformat_minor": 4
}
